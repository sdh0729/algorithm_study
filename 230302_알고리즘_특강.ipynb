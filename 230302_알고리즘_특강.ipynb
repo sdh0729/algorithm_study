{
  "nbformat": 4,
  "nbformat_minor": 0,
  "metadata": {
    "colab": {
      "provenance": []
    },
    "kernelspec": {
      "name": "python3",
      "display_name": "Python 3"
    },
    "language_info": {
      "name": "python"
    }
  },
  "cells": [
    {
      "cell_type": "markdown",
      "source": [
        "# 1일차"
      ],
      "metadata": {
        "id": "J-p3AEYZ11Ic"
      }
    },
    {
      "cell_type": "markdown",
      "source": [
        "## 연결 리스트"
      ],
      "metadata": {
        "id": "SSlCwzR-RsSe"
      }
    },
    {
      "cell_type": "code",
      "execution_count": null,
      "metadata": {
        "colab": {
          "base_uri": "https://localhost:8080/"
        },
        "id": "TMpUz7ygnr52",
        "outputId": "c56f056b-85b4-4651-880b-3b11e8f51e43"
      },
      "outputs": [
        {
          "output_type": "stream",
          "name": "stdout",
          "text": [
            "Choose a number between 1 to 4.1\n",
            "추가할 데이터 = 하하\n",
            "['하하']\n",
            "Choose a number between 1 to 4.4\n",
            "['하하']\n"
          ]
        }
      ],
      "source": [
        "def  add_data(friend) :\n",
        "    katok.append(None) # 빈칸 추가\n",
        "    kLen = len(katok) # 배열 길이 파악\n",
        "    katok[kLen-1] = friend\n",
        "\n",
        "def insert_data(position, friend) :\n",
        "    # 1단계 : 빈칸 추가\n",
        "    katok.append(None)\n",
        "    kLen = len(katok)\n",
        "    # 2단계 : 삽입할 위치까지, 오른쪽으로 한칸씩 이동\n",
        "    for i in range(kLen-1,position, -1) : # 어려움!\n",
        "        katok[i] = katok[i-1]\n",
        "        katok[i-1] = None\n",
        "    # 3단계\n",
        "    katok[position] = friend\n",
        "\n",
        "def delete_data(position) :\n",
        "    # 1단계\n",
        "    katok[position] = None\n",
        "    # 2단계\n",
        "    kLen = len(katok)\n",
        "    for i in range(position+1, kLen, 1) :\n",
        "        katok[i-1] = katok[i]\n",
        "        katok[i] = None\n",
        "    # 3단계\n",
        "    del(katok[kLen-1])\n",
        "\n",
        "katok = []\n",
        "select = -1\n",
        "\n",
        "while (select !=4):\n",
        "  select = int(input('Choose a number between 1 to 4.'))\n",
        "  if select==1:\n",
        "    data = input('추가할 데이터 = ')\n",
        "    add_data(data)\n",
        "    print(katok)\n",
        "  elif select==2:\n",
        "    pos = int(input('삽입할 위치 = '))\n",
        "    data = input('추가할 데이터 =')\n",
        "    insert_data(pos, data)\n",
        "    print(katok)\n",
        "  elif select==3:\n",
        "    pos = int(input('삭제할 위치 = '))\n",
        "    delete_data(pos)\n",
        "    print(katok)\n",
        "  elif select==4:\n",
        "    print(katok)\n",
        "    exit\n",
        "  else:\n",
        "    print('Choose a number between 1 to 4.')\n",
        "    continue"
      ]
    },
    {
      "cell_type": "code",
      "source": [
        "class Node():\n",
        "  def __init__(self):\n",
        "    self.data = None\n",
        "    self.link = None\n",
        "\n",
        "## 메인\n",
        "node1 = Node()\n",
        "node1.data = '다현'\n",
        "\n",
        "node2 = Node()\n",
        "node2.data = '정연'\n",
        "node1.link = node2\n",
        "\n",
        "node3 = Node()\n",
        "node3.data = '쯔위'\n",
        "node2.link = node3\n",
        "\n",
        "node4 = Node()\n",
        "node4.data = '사나'\n",
        "node3.link = node4\n",
        "\n",
        "node5 = Node()\n",
        "node5.data = '지효'\n",
        "node4.link = node5\n",
        "\n",
        "print(node1.data, end=' ')\n",
        "print(node2.data, end=' ')\n",
        "print(node3.data, end=' ')\n",
        "print(node4.data, end=' ')\n",
        "print(node5.data, end=' ')"
      ],
      "metadata": {
        "colab": {
          "base_uri": "https://localhost:8080/"
        },
        "id": "JuhyGlpXotsL",
        "outputId": "01efbff5-7cf0-49ea-c03c-9af2b3f8ea06"
      },
      "execution_count": null,
      "outputs": [
        {
          "output_type": "stream",
          "name": "stdout",
          "text": [
            "다현 정연 쯔위 사나 지효 "
          ]
        }
      ]
    },
    {
      "cell_type": "code",
      "source": [
        "print(node1.data)\n",
        "print(node1.link.data)\n",
        "print(node1.link.link.data)\n",
        "print(node1.link.link.link.data)\n",
        "print(node1.link.link.link.link.data)"
      ],
      "metadata": {
        "colab": {
          "base_uri": "https://localhost:8080/"
        },
        "id": "Xcud6W_lo_Q0",
        "outputId": "362c6dfe-b452-460b-ffdc-89b3176af7ac"
      },
      "execution_count": null,
      "outputs": [
        {
          "output_type": "stream",
          "name": "stdout",
          "text": [
            "다현\n",
            "정연\n",
            "쯔위\n",
            "사나\n",
            "지효\n"
          ]
        }
      ]
    },
    {
      "cell_type": "code",
      "source": [
        "class Node():\n",
        "  def __init__(self):\n",
        "    self.data = None\n",
        "    self.link = None\n",
        "\n",
        "## 메인\n",
        "node1 = Node()\n",
        "node1.data = '다현'\n",
        "\n",
        "node2 = Node()\n",
        "node2.data = '정연'\n",
        "node1.link = node2\n",
        "\n",
        "node3 = Node()\n",
        "node3.data = '쯔위'\n",
        "node2.link = node3\n",
        "\n",
        "node4 = Node()\n",
        "node4.data = '사나'\n",
        "node3.link = node4\n",
        "\n",
        "node5 = Node()\n",
        "node5.data = '지효'\n",
        "node4.link = node5\n",
        "\n",
        "newNode = Node()\n",
        "newNode.data = '햄찌'\n",
        "newNode.link = node2.link\n",
        "node2.link = newNode\n",
        "\n",
        "print(node1.data, end=' ')\n",
        "print(node1.link.data, end=' ')\n",
        "print(node1.link.link.data, end=' ')\n",
        "print(node1.link.link.link.data, end=' ')\n",
        "print(node1.link.link.link.link.data, end=' ')\n",
        "print(node1.link.link.link.link.link.data, end=' ')"
      ],
      "metadata": {
        "colab": {
          "base_uri": "https://localhost:8080/"
        },
        "id": "fAgf-tE3puhE",
        "outputId": "f7f98915-4906-487c-88f4-b5133e711d98"
      },
      "execution_count": null,
      "outputs": [
        {
          "output_type": "stream",
          "name": "stdout",
          "text": [
            "다현 정연 햄찌 쯔위 사나 지효 "
          ]
        }
      ]
    },
    {
      "cell_type": "code",
      "source": [
        "class Node():\n",
        "  def __init__(self):\n",
        "    self.data = None\n",
        "    self.link = None\n",
        "\n",
        "## 메인\n",
        "node1 = Node()\n",
        "node1.data = '다현'\n",
        "\n",
        "node2 = Node()\n",
        "node2.data = '정연'\n",
        "node1.link = node2\n",
        "\n",
        "node3 = Node()\n",
        "node3.data = '쯔위'\n",
        "node2.link = node3\n",
        "\n",
        "node4 = Node()\n",
        "node4.data = '사나'\n",
        "node3.link = node4\n",
        "\n",
        "node5 = Node()\n",
        "node5.data = '지효'\n",
        "node4.link = node5\n",
        "\n",
        "print(node1.data, end=' ')\n",
        "print(node1.link.data, end=' ')\n",
        "print(node1.link.link.data, end=' ')\n",
        "print(node1.link.link.link.data, end=' ')\n",
        "print(node1.link.link.link.link.data)\n",
        "\n",
        "node2.link = node3.link\n",
        "del(node3)\n",
        "\n",
        "print(node1.data, end=' ')\n",
        "print(node1.link.data, end=' ')\n",
        "print(node1.link.link.data, end=' ')\n",
        "print(node1.link.link.link.data)"
      ],
      "metadata": {
        "colab": {
          "base_uri": "https://localhost:8080/"
        },
        "id": "nLPhpfhprRia",
        "outputId": "ac231c6f-f73b-4016-c734-6f7a3c69e366"
      },
      "execution_count": null,
      "outputs": [
        {
          "output_type": "stream",
          "name": "stdout",
          "text": [
            "다현 정연 쯔위 사나 지효\n",
            "다현 정연 사나 지효\n"
          ]
        }
      ]
    },
    {
      "cell_type": "code",
      "source": [
        "class Node():\n",
        "  def __init__(self):\n",
        "    self.data = None\n",
        "    self.link = None\n",
        "\n",
        "## 메인\n",
        "node1 = Node()\n",
        "node1.data = '다현'\n",
        "\n",
        "node2 = Node()\n",
        "node2.data = '정연'\n",
        "node1.link = node2\n",
        "\n",
        "node3 = Node()\n",
        "node3.data = '쯔위'\n",
        "node2.link = node3\n",
        "\n",
        "node4 = Node()\n",
        "node4.data = '사나'\n",
        "node3.link = node4\n",
        "\n",
        "node5 = Node()\n",
        "node5.data = '지효'\n",
        "node4.link = node5\n",
        "\n",
        "current = node1\n",
        "\n",
        "print(current.data, end =' ')\n",
        "while(current.link != None):\n",
        "  current = current.link\n",
        "  print(current.data, end =' ')\n",
        "print()"
      ],
      "metadata": {
        "colab": {
          "base_uri": "https://localhost:8080/"
        },
        "id": "fpfyJhoLrj-X",
        "outputId": "a416db0d-d37e-476e-88e9-d32ecd0c33da"
      },
      "execution_count": null,
      "outputs": [
        {
          "output_type": "stream",
          "name": "stdout",
          "text": [
            "다현 정연 쯔위 사나 지효 \n"
          ]
        }
      ]
    },
    {
      "cell_type": "code",
      "source": [
        "class Node():\n",
        "  def __init__(self):\n",
        "    self.data = None\n",
        "    self.link = None\n",
        "\n",
        "def printNodes(start):\n",
        "  current = start\n",
        "  print(current.data, end =' ')\n",
        "  while(current.link != None):\n",
        "    current = current.link\n",
        "    print(current.data, end =' ')\n",
        "  print()\n",
        "\n",
        "## 전역\n",
        "memory = []\n",
        "head, pre, current = None, None, None\n",
        "dataArray = ['Booker', 'Durant', 'Paul', 'Ayton', 'Okogie']\n",
        "\n",
        "## 메인\n",
        "node = Node()\n",
        "node.data = dataArray[0]\n",
        "head = node\n",
        "memory.append(node)\n",
        "\n",
        "for data in dataArray[1:]:\n",
        "  pre = node\n",
        "  node = Node()\n",
        "  node.data = data\n",
        "  pre.link = node\n",
        "  memory.append(node)\n",
        "  # printNodes(pre)\n",
        "\n",
        "printNodes(head)"
      ],
      "metadata": {
        "colab": {
          "base_uri": "https://localhost:8080/"
        },
        "id": "9vdZy6Nswrcy",
        "outputId": "0cd7015a-eb75-46cf-92c2-11b205ae745e"
      },
      "execution_count": null,
      "outputs": [
        {
          "output_type": "stream",
          "name": "stdout",
          "text": [
            "Booker Durant Paul Ayton Okogie \n"
          ]
        }
      ]
    },
    {
      "cell_type": "code",
      "source": [
        "# 노드 삽입\n",
        "class Node():\n",
        "  def __init__(self):\n",
        "    self.data = None\n",
        "    self.link = None\n",
        "\n",
        "def printNodes(start):\n",
        "  current = start\n",
        "  print(current.data, end =' ')\n",
        "  while(current.link != None):\n",
        "    current = current.link\n",
        "    print(current.data, end =' ')\n",
        "  print()\n",
        "\n",
        "def insertNode(findData, insertData):\n",
        "  global memory, head, pre, current\n",
        "  \n",
        "  # case 1: Head 앞에 삽입\n",
        "  if (findData == head.data):\n",
        "    node = Node()\n",
        "    node.data = insertData\n",
        "    node.link = head\n",
        "    head = node\n",
        "    memory.append(node)\n",
        "    return\n",
        "  \n",
        "  # case 2: 중간 삽입\n",
        "  current = head\n",
        "  while (current.link != None):\n",
        "    pre = current\n",
        "    current = current.link\n",
        "    if (current.data == findData):\n",
        "      node = Node()\n",
        "      node.data = insertData\n",
        "      node.link = current \n",
        "      pre.link = node\n",
        "      memory.append(node)\n",
        "      return\n",
        "  \n",
        "  # case 3: 마지막 노드에 추가 (찾는 노드가 없을 시)\n",
        "  node = Node()\n",
        "  node.data = insertData\n",
        "  current.link = node\n",
        "  return\n",
        "\n",
        "\n",
        "## 전역\n",
        "memory = []\n",
        "head, pre, current = None, None, None\n",
        "dataArray = ['Booker', 'Durant', 'Paul', 'Ayton', 'Okogie']\n",
        "\n",
        "## 메인\n",
        "node = Node()\n",
        "node.data = dataArray[0]\n",
        "head = node\n",
        "memory.append(node)\n",
        "\n",
        "for data in dataArray[1:]:\n",
        "  pre = node\n",
        "  node = Node()\n",
        "  node.data = data\n",
        "  pre.link = node\n",
        "  memory.append(node)\n",
        "\n",
        "printNodes(head)\n",
        "\n",
        "# insertNode('Booker', 'Wembanyama')\n",
        "# printNodes(head)\n",
        "\n",
        "# insertNode('Ayton', 'Lee')\n",
        "# printNodes(head)\n",
        "\n",
        "insertNode('James', 'Yeo')\n",
        "printNodes(head)"
      ],
      "metadata": {
        "colab": {
          "base_uri": "https://localhost:8080/"
        },
        "id": "F_o6fCGAydia",
        "outputId": "fd52d516-1764-4e9f-b4f0-56bb33605097"
      },
      "execution_count": null,
      "outputs": [
        {
          "output_type": "stream",
          "name": "stdout",
          "text": [
            "Booker Durant Paul Ayton Okogie \n",
            "Booker Durant Paul Ayton Okogie Yeo \n"
          ]
        }
      ]
    },
    {
      "cell_type": "code",
      "source": [
        "# 노드 삭제\n",
        "class Node():\n",
        "  def __init__(self):\n",
        "    self.data = None\n",
        "    self.link = None\n",
        "\n",
        "def printNodes(start):\n",
        "  current = start\n",
        "  print(current.data, end =' ')\n",
        "  while(current.link != None):\n",
        "    current = current.link\n",
        "    print(current.data, end =' ')\n",
        "  print()\n",
        "\n",
        "def insertNode(findData, insertData):\n",
        "  global memory, head, pre, current\n",
        "  \n",
        "  # case 1: Head 앞에 삽입\n",
        "  if (findData == head.data):\n",
        "    node = Node()\n",
        "    node.data = insertData\n",
        "    node.link = head\n",
        "    head = node\n",
        "    memory.append(node)\n",
        "    return\n",
        "  \n",
        "  # case 2: 중간 삽입\n",
        "  current = head\n",
        "  while (current.link != None):\n",
        "    pre = current\n",
        "    current = current.link\n",
        "    if (current.data == findData):\n",
        "      node = Node()\n",
        "      node.data = insertData\n",
        "      node.link = current \n",
        "      pre.link = node\n",
        "      memory.append(node)\n",
        "      return\n",
        "  \n",
        "  # case 3: 마지막 노드에 추가 (찾는 노드가 없을 시)\n",
        "  node = Node()\n",
        "  node.data = insertData\n",
        "  current.link = node\n",
        "  return\n",
        "\n",
        "def deleteNode(delData):\n",
        "  global memory, head, pre, current\n",
        "\n",
        "  # case 1: 삭제할 데이터가 head\n",
        "  if (delData == head.data):\n",
        "    current = head\n",
        "    head = head.link\n",
        "    del(current)\n",
        "    return\n",
        "\n",
        "  # case 2: 중간 노드 삭제\n",
        "  current = head\n",
        "  while (current.link != None):\n",
        "    pre = current\n",
        "    current = current.link\n",
        "    if (current.data == delData):\n",
        "      pre.link = current.link\n",
        "      del(current)\n",
        "      return\n",
        "  \n",
        "  # case 3: 없는 노드 삭제\n",
        "  return\n",
        "\n",
        "## 전역\n",
        "memory = []\n",
        "head, pre, current = None, None, None\n",
        "dataArray = ['Booker', 'Durant', 'Paul', 'Ayton', 'Okogie']\n",
        "\n",
        "## 메인\n",
        "node = Node()\n",
        "node.data = dataArray[0]\n",
        "head = node\n",
        "memory.append(node)\n",
        "\n",
        "for data in dataArray[1:]:\n",
        "  pre = node\n",
        "  node = Node()\n",
        "  node.data = data\n",
        "  pre.link = node\n",
        "  memory.append(node)\n",
        "\n",
        "printNodes(head)\n",
        "\n",
        "# deleteNode('Booker')\n",
        "# printNodes(head)\n",
        "\n",
        "# deleteNode('Paul')\n",
        "# printNodes(head)\n",
        "\n",
        "deleteNode('Lee')\n",
        "printNodes(head)"
      ],
      "metadata": {
        "colab": {
          "base_uri": "https://localhost:8080/"
        },
        "id": "dfAvHXgt2xsJ",
        "outputId": "625aee51-915b-416f-a95d-b9ad5765545c"
      },
      "execution_count": null,
      "outputs": [
        {
          "output_type": "stream",
          "name": "stdout",
          "text": [
            "Booker Durant Paul Ayton Okogie \n",
            "Booker Durant Paul Ayton Okogie \n"
          ]
        }
      ]
    },
    {
      "cell_type": "code",
      "source": [
        "# 노드 검색\n",
        "class Node():\n",
        "  def __init__(self):\n",
        "    self.data = None\n",
        "    self.link = None\n",
        "\n",
        "def printNodes(start):\n",
        "  current = start\n",
        "  print(current.data, end =' ')\n",
        "  while(current.link != None):\n",
        "    current = current.link\n",
        "    print(current.data, end =' ')\n",
        "  print()\n",
        "\n",
        "def insertNode(findData, insertData):\n",
        "  global memory, head, pre, current\n",
        "  \n",
        "  # case 1: Head 앞에 삽입\n",
        "  if (findData == head.data):\n",
        "    node = Node()\n",
        "    node.data = insertData\n",
        "    node.link = head\n",
        "    head = node\n",
        "    memory.append(node)\n",
        "    return\n",
        "  \n",
        "  # case 2: 중간 삽입\n",
        "  current = head\n",
        "  while (current.link != None):\n",
        "    pre = current\n",
        "    current = current.link\n",
        "    if (current.data == findData):\n",
        "      node = Node()\n",
        "      node.data = insertData\n",
        "      node.link = current \n",
        "      pre.link = node\n",
        "      memory.append(node)\n",
        "      return\n",
        "  \n",
        "  # case 3: 마지막 노드에 추가 (찾는 노드가 없을 시)\n",
        "  node = Node()\n",
        "  node.data = insertData\n",
        "  current.link = node\n",
        "  return\n",
        "\n",
        "def deleteNode(delData):\n",
        "  global memory, head, pre, current\n",
        "\n",
        "  # case 1: 삭제할 데이터가 head\n",
        "  if (delData == head.data):\n",
        "    current = head\n",
        "    head = head.link\n",
        "    del(current)\n",
        "    return\n",
        "\n",
        "  # case 2: 중간 노드 삭제\n",
        "  current = head\n",
        "  while (current.link != None):\n",
        "    pre = current\n",
        "    current = current.link\n",
        "    if (current.data == delData):\n",
        "      pre.link = current.link\n",
        "      del(current)\n",
        "      return\n",
        "\n",
        "def findNode(findData):\n",
        "  global memory, head, pre, current\n",
        "\n",
        "  current = head\n",
        "  if (current.data == findData):\n",
        "    return current\n",
        "  while (current.link != None):\n",
        "    current = current.link\n",
        "    if (current.data == findData):\n",
        "      return current\n",
        "  return Node()\n",
        "\n",
        "  # case 3: 없는 노드 삭제\n",
        "  return\n",
        "\n",
        "## 전역\n",
        "memory = []\n",
        "head, pre, current = None, None, None\n",
        "dataArray = ['Booker', 'Durant', 'Paul', 'Ayton', 'Okogie']\n",
        "\n",
        "## 메인\n",
        "node = Node()\n",
        "node.data = dataArray[0]\n",
        "head = node\n",
        "memory.append(node)\n",
        "\n",
        "for data in dataArray[1:]:\n",
        "  pre = node\n",
        "  node = Node()\n",
        "  node.data = data\n",
        "  pre.link = node\n",
        "  memory.append(node)\n",
        "\n",
        "printNodes(head)\n",
        "\n",
        "fNode = findNode('Durant')\n",
        "print(fNode.data)"
      ],
      "metadata": {
        "colab": {
          "base_uri": "https://localhost:8080/"
        },
        "id": "JZ0fYlYK-3UY",
        "outputId": "552032e1-aa9c-42b2-ce06-68ba102b03bd"
      },
      "execution_count": null,
      "outputs": [
        {
          "output_type": "stream",
          "name": "stdout",
          "text": [
            "Booker Durant Paul Ayton Okogie \n",
            "Durant\n"
          ]
        }
      ]
    },
    {
      "cell_type": "markdown",
      "source": [
        "## 스택"
      ],
      "metadata": {
        "id": "v5eayq6ERo6w"
      }
    },
    {
      "cell_type": "code",
      "source": [
        "# push\n",
        "\n",
        "## 함수\n",
        "\n",
        "\n",
        "## 변수\n",
        "stack = [None, None, None, None, None]\n",
        "top = -1\n",
        "\n",
        "## 메인\n",
        "# push coffee\n",
        "top += 1\n",
        "stack[top] = 'coffee'\n",
        "# push green tea\n",
        "top += 1\n",
        "stack[top] = 'green tea'\n",
        "# push honey water\n",
        "top += 1\n",
        "stack[top] = 'honey water'\n",
        "\n",
        "print(stack)"
      ],
      "metadata": {
        "colab": {
          "base_uri": "https://localhost:8080/"
        },
        "id": "KnkVrn5MR26W",
        "outputId": "442678af-d1c8-4298-8417-97289344a364"
      },
      "execution_count": null,
      "outputs": [
        {
          "output_type": "stream",
          "name": "stdout",
          "text": [
            "['coffee', 'green tea', 'honey water', None, None]\n"
          ]
        }
      ]
    },
    {
      "cell_type": "code",
      "source": [
        "# pop\n",
        "\n",
        "## 함수\n",
        "\n",
        "\n",
        "## 변수\n",
        "stack = [None, None, None, None, None]\n",
        "top = -1\n",
        "\n",
        "## 메인\n",
        "# push coffee\n",
        "top += 1\n",
        "stack[top] = 'coffee'\n",
        "# push green tea\n",
        "top += 1\n",
        "stack[top] = 'green tea'\n",
        "# push honey water\n",
        "top += 1\n",
        "stack[top] = 'honey water'\n",
        "\n",
        "print(stack)\n",
        "\n",
        "# pop\n",
        "data = stack[top]\n",
        "stack[top] = None\n",
        "top -= 1\n",
        "print('pop:', data)\n",
        "# pop\n",
        "data = stack[top]\n",
        "stack[top] = None\n",
        "top -= 1\n",
        "print('pop:', data)\n",
        "# pop\n",
        "data = stack[top]\n",
        "stack[top] = None\n",
        "top -= 1\n",
        "print('pop:', data)\n",
        "\n",
        "print(stack)"
      ],
      "metadata": {
        "colab": {
          "base_uri": "https://localhost:8080/"
        },
        "id": "K0g0bb3dX-aA",
        "outputId": "a1b13354-ed45-40da-9120-aff879c4dd9d"
      },
      "execution_count": null,
      "outputs": [
        {
          "output_type": "stream",
          "name": "stdout",
          "text": [
            "['coffee', 'green tea', 'honey water', None, None]\n",
            "pop: honey water\n",
            "pop: green tea\n",
            "pop: coffee\n",
            "[None, None, None, None, None]\n"
          ]
        }
      ]
    },
    {
      "cell_type": "code",
      "source": [
        "# 스택 초기화\n",
        "\n",
        "## 함수\n",
        "\n",
        "\n",
        "## 변수\n",
        "SIZE = 5  # 스택 크키 변경 변수\n",
        "stack = [None for _ in range(SIZE)]\n",
        "top = -1\n",
        "\n",
        "## 메인\n",
        "print(stack)"
      ],
      "metadata": {
        "colab": {
          "base_uri": "https://localhost:8080/"
        },
        "id": "ifo7EzNWZUHt",
        "outputId": "4088d8a3-6d2a-48ea-a6d1-1b762b35bad5"
      },
      "execution_count": null,
      "outputs": [
        {
          "output_type": "stream",
          "name": "stdout",
          "text": [
            "[None, None, None, None, None]\n"
          ]
        }
      ]
    },
    {
      "cell_type": "code",
      "source": [
        "# 스택이 꽉 찾을 때\n",
        "\n",
        "## 함수\n",
        "# 스택이 full인지 확인 필수\n",
        "def isStackFull():\n",
        "  global SIZE, stack, top\n",
        "  if top == SIZE-1 :\n",
        "    return True\n",
        "  else :\n",
        "    return False\n",
        "\n",
        "def push(data):\n",
        "  global SIZE, stack, top\n",
        "  if isStackFull() == True :\n",
        "    print('Stack is full')\n",
        "    return\n",
        "  else :\n",
        "    top += 1\n",
        "    stack[top] = data\n",
        "\n",
        "## 변수\n",
        "SIZE = 5  # 스택 크키 변경 변수\n",
        "stack = [None for _ in range(SIZE)]\n",
        "top = -1\n",
        "\n",
        "## 메인\n",
        "push('coffee')\n",
        "push('green tea')\n",
        "push('honey water')\n",
        "push('coca cola')\n",
        "push('fanta')\n",
        "print(stack)\n",
        "\n",
        "# stack이 full이기 때문에 더이상 데이터가 들어가지 않음\n",
        "push('gatorade')\n",
        "push('americano')\n",
        "print(stack)"
      ],
      "metadata": {
        "colab": {
          "base_uri": "https://localhost:8080/"
        },
        "outputId": "c279a481-1049-4f18-a907-8dc450a6ef3f",
        "id": "X0HdTjd8ZsBh"
      },
      "execution_count": null,
      "outputs": [
        {
          "output_type": "stream",
          "name": "stdout",
          "text": [
            "['coffee', 'green tea', 'honey water', 'coca cola', 'fanta']\n",
            "Stack is full\n",
            "Stack is full\n",
            "['coffee', 'green tea', 'honey water', 'coca cola', 'fanta']\n"
          ]
        }
      ]
    },
    {
      "cell_type": "code",
      "source": [
        "# pop\n",
        "\n",
        "## 함수\n",
        "# 스택이 full인지 확인\n",
        "def isStackFull():\n",
        "  global SIZE, stack, top\n",
        "  if top >= SIZE-1 :\n",
        "    return True\n",
        "  else :\n",
        "    return False\n",
        "\n",
        "# 스택이 empty인지 확인\n",
        "def isStackEmpty():\n",
        "  global SIZE, stack, top\n",
        "  if top <= -1 :  # 작거나 같다로 미연에 방지 (think Bastion ult!)\n",
        "    return True\n",
        "  else :\n",
        "    return False\n",
        "\n",
        "def push(data):\n",
        "  global SIZE, stack, top\n",
        "  if isStackFull() :\n",
        "    print('Stack is full!')\n",
        "    return\n",
        "  else :\n",
        "    top += 1\n",
        "    stack[top] = data\n",
        "\n",
        "def pop():\n",
        "  global SIZE, stack, top\n",
        "  if isStackEmpty() :\n",
        "    print('Stack is empty!')\n",
        "    return\n",
        "  else :\n",
        "    data = stack[top]\n",
        "    stack[top] = None\n",
        "    top -= 1\n",
        "    return data\n",
        "\n",
        "## 변수\n",
        "SIZE = 5  # 스택 크키 변경 변수\n",
        "stack = [None for _ in range(SIZE)]\n",
        "top = -1\n",
        "\n",
        "## 메인\n",
        "push('coffee')\n",
        "push('green tea')\n",
        "push('honey water')\n",
        "print('Stack:', stack,'\\n')\n",
        "\n",
        "retData = pop()\n",
        "print('pop:', retData)\n",
        "retData = pop()\n",
        "print('pop:', retData)\n",
        "retData = pop()\n",
        "print('pop:', retData)\n",
        "retData = pop()\n",
        "print('pop:', retData, '\\n')\n",
        "\n",
        "print('Stack:',stack)"
      ],
      "metadata": {
        "colab": {
          "base_uri": "https://localhost:8080/"
        },
        "id": "WUWnItqZcbFt",
        "outputId": "2e4bcd5b-c80e-4739-9e91-f8421bb8699d"
      },
      "execution_count": null,
      "outputs": [
        {
          "output_type": "stream",
          "name": "stdout",
          "text": [
            "Stack: ['coffee', 'green tea', 'honey water', None, None] \n",
            "\n",
            "pop: honey water\n",
            "pop: green tea\n",
            "pop: coffee\n",
            "Stack is empty!\n",
            "pop: None \n",
            "\n",
            "Stack: [None, None, None, None, None]\n"
          ]
        }
      ]
    },
    {
      "cell_type": "code",
      "source": [
        "# peek\n",
        "\n",
        "## 함수\n",
        "# 스택이 full인지 확인\n",
        "def isStackFull():\n",
        "  global SIZE, stack, top\n",
        "  if top >= SIZE-1 :\n",
        "    return True\n",
        "  else :\n",
        "    return False\n",
        "\n",
        "# 스택이 empty인지 확인\n",
        "def isStackEmpty():\n",
        "  global SIZE, stack, top\n",
        "  if top <= -1 :  # 작거나 같다로 미연에 방지 (think Bastion ult!)\n",
        "    return True\n",
        "  else :\n",
        "    return False\n",
        "\n",
        "def push(data):\n",
        "  global SIZE, stack, top\n",
        "  if isStackFull() :\n",
        "    print('Stack is full!')\n",
        "    return\n",
        "  else :\n",
        "    top += 1\n",
        "    stack[top] = data\n",
        "\n",
        "def pop():\n",
        "  global SIZE, stack, top\n",
        "  if isStackEmpty() :\n",
        "    print('Stack is empty!')\n",
        "    return\n",
        "  else :\n",
        "    data = stack[top]\n",
        "    stack[top] = None\n",
        "    top -= 1\n",
        "    return data\n",
        "\n",
        "def peek():\n",
        "  global SIZE, stack, top\n",
        "  if isStackEmpty() :\n",
        "    print('Stack is empty!')\n",
        "    return\n",
        "  else :\n",
        "    return stack[top]\n",
        "\n",
        "## 변수\n",
        "SIZE = 5  # 스택 크키 변경 변수\n",
        "stack = [None for _ in range(SIZE)]\n",
        "top = -1\n",
        "\n",
        "## 메인\n",
        "push('coffee')\n",
        "push('green tea')\n",
        "push('honey water')\n",
        "print('Stack:', stack,'\\n')\n",
        "\n",
        "retData = pop()\n",
        "print('pop:', retData)\n",
        "retData = pop()\n",
        "print('pop:', retData, '\\n')\n",
        "\n",
        "print('peek:', peek(), '\\n')\n",
        "\n",
        "retData = pop()\n",
        "print('pop:', retData)\n",
        "retData = pop()\n",
        "print('pop:', retData, '\\n')\n",
        "\n",
        "print('Stack:',stack)"
      ],
      "metadata": {
        "colab": {
          "base_uri": "https://localhost:8080/"
        },
        "id": "HdiqKI6neSdp",
        "outputId": "46c712d2-6173-46cd-869c-231e226a2ba8"
      },
      "execution_count": null,
      "outputs": [
        {
          "output_type": "stream",
          "name": "stdout",
          "text": [
            "Stack: ['coffee', 'green tea', 'honey water', None, None] \n",
            "\n",
            "pop: honey water\n",
            "pop: green tea \n",
            "\n",
            "peek: coffee \n",
            "\n",
            "pop: coffee\n",
            "Stack is empty!\n",
            "pop: None \n",
            "\n",
            "Stack: [None, None, None, None, None]\n"
          ]
        }
      ]
    },
    {
      "cell_type": "markdown",
      "source": [
        "## 자격증 이야기\n",
        "- 정보처리기사: 따는게 좋음. 나 컴퓨터 해봤다!\n",
        "  - 면접: 필기 합격했다 or 접수했고 점수 나온다.\n",
        "- 전자계산기조직운용 (컴퓨터 전공)\n",
        "- 데이터 분석가, sqld, ocp, 인공지능 전문자격 등: 필요하면 or 지원하는 분야와 방향이 맞다면\n",
        "  - 취업 사이트\n",
        "  - 회사 취업 담당자"
      ],
      "metadata": {
        "id": "8a3Dlz24Jnl0"
      }
    },
    {
      "cell_type": "markdown",
      "source": [
        "## 자료구조\n",
        "- 선형\n",
        "  - 리스트\n",
        "    - 선형리스트(=순차 리스트)\n",
        "      - 배열! 빈틈없이 다다닥\n",
        "      - 데이터 삽입/삭제시 오버헤드 있음\n",
        "      - 장점\n",
        "        - 공간 절약\n",
        "        - 전체를 접근하기 빠름\n",
        "      - 오버헤드 데이터가 없는 데이터?\n",
        "        - 신문기사\n",
        "        - 고전소설 연대순\n",
        "        - 시간 순서 발생 데이터\n",
        "    - 단순 연결 리스트\n",
        "      - 노드(데이터+링크) 논리적 다다닥\n",
        "      - 물리적으로 멀리\n",
        "      - 삽입/삭제시 오버헤드 없음\n",
        "      - 단점\n",
        "        - 공간 더 필요\n",
        "        - 접근 느림\n",
        "    - 원형 연결 리스트\n",
        "      - 단순 연결과 같지만 꼬리가 다시 머리로 연결\n",
        "      - 마지막 노드.link == head\n",
        "  - 스택\n",
        "    - 한쪽이 막힌 파이프\n",
        "    - First in Last out (=Last in First out)\n",
        "    - push, pop\n",
        "    - isStack(Full/Empty)\n",
        "  - 큐\n",
        "    - 순차 큐(=일반 큐)\n",
        "    - 원형 큐(=환형 큐)\n",
        "- 비선형\n",
        "  - 트리: 이진트리\n",
        "  - 그래프: 인접 행렬\n",
        "\n",
        "## 알고리즘\n",
        "- 정렬\n",
        "  - 선택 정렬(*)\n",
        "  - 버블 정렬\n",
        "  - 퀵 정렬\n",
        "- 검색\n",
        "  - 순차 검색\n",
        "  - 이진 검색\n",
        "- 재귀: 스스로 이해 필요"
      ],
      "metadata": {
        "id": "5vCwtcA0NfER"
      }
    },
    {
      "cell_type": "markdown",
      "source": [
        "# 2일차"
      ],
      "metadata": {
        "id": "dFfcftX61xbx"
      }
    },
    {
      "cell_type": "markdown",
      "source": [
        "## 큐\n",
        "- enQueue: 데이터 삽입\n",
        "- deQueue: 데이터 추출"
      ],
      "metadata": {
        "id": "P_fE0Ua4D4hs"
      }
    },
    {
      "cell_type": "code",
      "source": [
        "## 함수\n",
        "\n",
        "\n",
        "## 전역\n",
        "SIZE = 5\n",
        "queue = [None for _ in range(SIZE)]\n",
        "front = rear = -1\n",
        "\n",
        "## 메인\n",
        "# enQueue()\n",
        "rear += 1\n",
        "queue[rear] = 'Booker'\n",
        "rear += 1\n",
        "queue[rear] = 'Durant'\n",
        "rear += 1\n",
        "queue[rear] = 'Paul'\n",
        "\n",
        "print('Exit <--', queue, '<-- Enter')\n",
        "\n",
        "# deQueue()\n",
        "front += 1\n",
        "data = queue[front]\n",
        "queue[front] = None\n",
        "print('식사손님:', data)\n",
        "front += 1\n",
        "data = queue[front]\n",
        "queue[front] = None\n",
        "print('식사손님:', data)\n",
        "front += 1\n",
        "data = queue[front]\n",
        "queue[front] = None\n",
        "print('식사손님:', data)\n",
        "\n",
        "print('Exit <--', queue, '<-- Enter')"
      ],
      "metadata": {
        "id": "0TfZ3UChDiLa",
        "colab": {
          "base_uri": "https://localhost:8080/"
        },
        "outputId": "873a2233-3cf4-444d-8f00-2a38c8a9421f"
      },
      "execution_count": null,
      "outputs": [
        {
          "output_type": "stream",
          "name": "stdout",
          "text": [
            "Exit <-- ['Booker', 'Durant', 'Paul', None, None] <-- Enter\n",
            "식사손님: Booker\n",
            "식사손님: Durant\n",
            "식사손님: Paul\n",
            "Exit <-- [None, None, None, None, None] <-- Enter\n"
          ]
        }
      ]
    },
    {
      "cell_type": "code",
      "source": [
        "# 정석 큐\n",
        "## 함수\n",
        "def isQueueFull() :\n",
        "  global SIZE, queue, front, rear\n",
        "  if rear != SIZE-1 :\n",
        "    return False\n",
        "  elif rear == SIZE-1 and front == -1 :\n",
        "    return True \n",
        "  # elif rear == SIZE-1 and front != -1 :\n",
        "  else :\n",
        "    for i in range(front+1, SIZE, 1) :\n",
        "      queue[i-1] = queue[i]\n",
        "      queue[i] = None\n",
        "    front -= 1\n",
        "    rear -= 1\n",
        "    return False\n",
        "\n",
        "def isQueueEmpty() :\n",
        "  global SIZE, queue, front, rear\n",
        "  if front == rear :\n",
        "    return True\n",
        "  else :\n",
        "    return False\n",
        "\n",
        "def enQueue(data) :\n",
        "  global SIZE, queue, front, rear\n",
        "  if isQueueFull() :\n",
        "    print('Queue is full!')\n",
        "    return\n",
        "  rear += 1\n",
        "  queue[rear] = data\n",
        "\n",
        "def deQueue() :\n",
        "  global SIZE, queue, front, rear\n",
        "  if isQueueEmpty() :\n",
        "    print('Queue is empty')\n",
        "    return\n",
        "  front += 1\n",
        "  data = queue[front]\n",
        "  queue[front] = None\n",
        "  return data\n",
        "\n",
        "def peek() :\n",
        "  global SIZE, queue, front, rear\n",
        "  if isQueueEmpty() :\n",
        "    print('Queue is empty')\n",
        "    return\n",
        "  return queue[front+1]\n",
        "\n",
        "## 전역\n",
        "SIZE = 5\n",
        "queue = [None for _ in range(SIZE)]\n",
        "front = rear = -1\n",
        "\n",
        "## 메인\n",
        "print('Exit <--', queue, '<-- Enter')\n",
        "\n",
        "# enQueue()\n",
        "enQueue('Booker')\n",
        "enQueue('Durant')\n",
        "enQueue('Paul')\n",
        "enQueue('Ayton')\n",
        "enQueue('Okogie')\n",
        "enQueue('Payne')\n",
        "\n",
        "print('Exit <--', queue, '<-- Enter')\n",
        "\n",
        "# peek()\n",
        "print('Next guest:', peek())\n",
        "\n",
        "# deQueue()\n",
        "retData = deQueue()\n",
        "print('Welcome,', retData)\n",
        "retData = deQueue()\n",
        "print('Welcome,', retData)\n",
        "retData = deQueue()\n",
        "print('Welcome,', retData)\n",
        "\n",
        "print('Exit <--', queue, '<-- Enter')\n",
        "\n",
        "retData = deQueue()\n",
        "print('Welcome,', retData)\n",
        "\n",
        "print('Exit <--', queue, '<-- Enter')\n",
        "\n",
        "enQueue('Payne')\n",
        "print('Exit <--', queue, '<-- Enter')\n",
        "\n",
        "enQueue('Shamet')\n",
        "enQueue('Wainright')\n",
        "enQueue('Biyombo')\n",
        "print('Exit <--', queue, '<-- Enter')\n",
        "\n",
        "enQueue('Ross')"
      ],
      "metadata": {
        "colab": {
          "base_uri": "https://localhost:8080/"
        },
        "id": "LfrCEAeXFzMB",
        "outputId": "3879e032-c7e0-4785-ea5b-cce6e001d582"
      },
      "execution_count": null,
      "outputs": [
        {
          "output_type": "stream",
          "name": "stdout",
          "text": [
            "Exit <-- [None, None, None, None, None] <-- Enter\n",
            "Queue is full!\n",
            "Exit <-- ['Booker', 'Durant', 'Paul', 'Ayton', 'Okogie'] <-- Enter\n",
            "Next guest: Booker\n",
            "Welcome, Booker\n",
            "Welcome, Durant\n",
            "Welcome, Paul\n",
            "Exit <-- [None, None, None, 'Ayton', 'Okogie'] <-- Enter\n",
            "Welcome, Ayton\n",
            "Exit <-- [None, None, None, None, 'Okogie'] <-- Enter\n",
            "Exit <-- [None, None, None, 'Okogie', 'Payne'] <-- Enter\n",
            "Exit <-- ['Okogie', 'Payne', 'Shamet', 'Wainright', 'Biyombo'] <-- Enter\n",
            "Queue is full!\n"
          ]
        }
      ]
    },
    {
      "cell_type": "markdown",
      "source": [
        "### 원형 큐\n",
        "- SIZE-1의 칸 사용"
      ],
      "metadata": {
        "id": "Lesj6STKr4cy"
      }
    },
    {
      "cell_type": "code",
      "source": [
        "# 원형 큐\n",
        "## 함수\n",
        "def isQueueFull() :\n",
        "  global SIZE, queue, front, rear\n",
        "  if (rear+1) % SIZE == front :\n",
        "    return True\n",
        "  else :\n",
        "    return False\n",
        "\n",
        "def isQueueEmpty() :\n",
        "  global SIZE, queue, front, rear\n",
        "  if front == rear :\n",
        "    return True\n",
        "  else :\n",
        "    return False\n",
        "\n",
        "def enQueue(data) :\n",
        "  global SIZE, queue, front, rear\n",
        "  if isQueueFull() :\n",
        "    print('Queue is full!')\n",
        "    return\n",
        "  rear = (rear+1) % SIZE\n",
        "  queue[rear] = data\n",
        "\n",
        "def deQueue() :\n",
        "  global SIZE, queue, front, rear\n",
        "  if isQueueEmpty() :\n",
        "    print('Queue is empty')\n",
        "    return\n",
        "  front = (front+1) % SIZE\n",
        "  data = queue[front]\n",
        "  queue[front] = None\n",
        "  return data\n",
        "\n",
        "def peek() :\n",
        "  global SIZE, queue, front, rear\n",
        "  if isQueueEmpty() :\n",
        "    print('Queue is empty')\n",
        "    return\n",
        "  return queue[(front+1) & SIZE]\n",
        "\n",
        "## 전역\n",
        "SIZE = 5\n",
        "queue = [None for _ in range(SIZE)]\n",
        "front = rear = 0\n",
        "\n",
        "## 메인\n",
        "print('Exit <--', queue, '<-- Enter')\n",
        "\n",
        "# enQueue()\n",
        "enQueue('Booker')\n",
        "enQueue('Durant')\n",
        "enQueue('Paul')\n",
        "enQueue('Ayton')\n",
        "enQueue('Okogie')\n",
        "\n",
        "print('Exit <--', queue, '<-- Enter')\n",
        "\n",
        "# peek()\n",
        "print('Next guest:', peek())\n",
        "\n",
        "# deQueue()\n",
        "retData = deQueue()\n",
        "print('Welcome,', retData)\n",
        "retData = deQueue()\n",
        "print('Welcome,', retData)\n",
        "retData = deQueue()\n",
        "print('Welcome,', retData)\n",
        "\n",
        "print('Exit <--', queue, '<-- Enter')\n",
        "\n",
        "# enQueue()\n",
        "enQueue('Payne')\n",
        "enQueue('Shamet')\n",
        "enQueue('Wainright')\n",
        "print('Exit <--', queue, '<-- Enter')"
      ],
      "metadata": {
        "colab": {
          "base_uri": "https://localhost:8080/"
        },
        "id": "nH0Tiy-5I9AY",
        "outputId": "8d83cbf4-9dfc-42a6-ca68-b1e1683c1d5a"
      },
      "execution_count": null,
      "outputs": [
        {
          "output_type": "stream",
          "name": "stdout",
          "text": [
            "Exit <-- [None, None, None, None, None] <-- Enter\n",
            "Queue is full!\n",
            "Exit <-- [None, 'Booker', 'Durant', 'Paul', 'Ayton'] <-- Enter\n",
            "Next guest: Booker\n",
            "Welcome, Booker\n",
            "Welcome, Durant\n",
            "Welcome, Paul\n",
            "Exit <-- [None, None, None, None, 'Ayton'] <-- Enter\n",
            "Exit <-- ['Payne', 'Shamet', 'Wainright', None, 'Ayton'] <-- Enter\n"
          ]
        }
      ]
    },
    {
      "cell_type": "markdown",
      "source": [
        "## 이진 트리"
      ],
      "metadata": {
        "id": "aTCvudEUxOmU"
      }
    },
    {
      "cell_type": "code",
      "source": [
        "## 함수\n",
        "class TreeNode() :\n",
        "  def __init__(self) :\n",
        "    self.left = None\n",
        "    self.data = None\n",
        "    self.right = None\n",
        "\n",
        "## 변수\n",
        "\n",
        "\n",
        "## 메인\n",
        "node1 = TreeNode()\n",
        "node1.data = 'Booker'\n",
        "\n",
        "node2 = TreeNode()\n",
        "node2.data = 'Durant'\n",
        "node1.left = node2\n",
        "\n",
        "node3 = TreeNode()\n",
        "node3.data = 'Paul'\n",
        "node1.right = node3\n",
        "\n",
        "node4 = TreeNode()\n",
        "node4.data = 'Ayton'\n",
        "node2.left = node4\n",
        "\n",
        "node5 = TreeNode()\n",
        "node5.data = 'Okogie'\n",
        "node2.right = node5\n",
        "\n",
        "node6 = TreeNode()\n",
        "node6.data = 'Payne'\n",
        "node3.left = node6\n",
        "\n",
        "\n",
        "print(node1.data)\n",
        "print(node2.data, node3.data)\n",
        "print(node4.data, node5.data, node6.data)\n",
        "\n",
        "root = node1\n",
        "\n",
        "print(root.data)\n",
        "print(root.left.data, root.right.data)\n",
        "print(root.left.left.data, root.left.right.data, root.right.left.data)"
      ],
      "metadata": {
        "colab": {
          "base_uri": "https://localhost:8080/"
        },
        "id": "uzRJzabWuMO1",
        "outputId": "35bc5e90-e61b-4d8a-a605-d69ac7c41934"
      },
      "execution_count": null,
      "outputs": [
        {
          "output_type": "stream",
          "name": "stdout",
          "text": [
            "Booker\n",
            "Durant Paul\n",
            "Ayton Okogie Payne\n",
            "Booker\n",
            "Durant Paul\n",
            "Ayton Okogie Payne\n"
          ]
        }
      ]
    },
    {
      "cell_type": "markdown",
      "source": [
        "## 그래프\n",
        "- 지하철 노선도\n",
        "- Linkedin 등\n",
        "- 무방향, 방향"
      ],
      "metadata": {
        "id": "46P15bPZ7cPA"
      }
    },
    {
      "cell_type": "code",
      "source": [
        "## 함수\n",
        "class Graph() :\n",
        "  def __init__(self, size) :\n",
        "    self.graph = [ [0 for _ in range(size)] for _ in range(size) ]    \n",
        "\n",
        "## 변수\n",
        "G1 = None\n",
        "A, B, C, D = 0, 1, 2, 3\n",
        "\n",
        "## 메인\n",
        "G1 = Graph(4)\n",
        "G1.graph[A][B] = 1; G1.graph[A][C] = 1; G1.graph[A][D] = 1\n",
        "G1.graph[B][A] = 1; G1.graph[B][C] = 1\n",
        "G1.graph[C][A] = 1; G1.graph[C][B] = 1; G1.graph[C][D] = 1\n",
        "G1.graph[D][A] = 1; G1.graph[D][C] = 1\n",
        "\n",
        "for i in range(4) :\n",
        "  for j in range(4) :\n",
        "    print(G1.graph[i][j], end=' ')\n",
        "  print()"
      ],
      "metadata": {
        "colab": {
          "base_uri": "https://localhost:8080/"
        },
        "id": "Px8tnOimzHiT",
        "outputId": "e1fc0ece-aac6-4a53-c688-928a042d77ac"
      },
      "execution_count": null,
      "outputs": [
        {
          "output_type": "stream",
          "name": "stdout",
          "text": [
            "0 1 1 1 \n",
            "1 0 1 0 \n",
            "1 1 0 1 \n",
            "1 0 1 0 \n"
          ]
        }
      ]
    },
    {
      "cell_type": "markdown",
      "source": [
        "## 알고리즘"
      ],
      "metadata": {
        "id": "w-OTCcDhAlfs"
      }
    },
    {
      "cell_type": "markdown",
      "source": [
        "### 정렬"
      ],
      "metadata": {
        "id": "-V5W2OEkAtyA"
      }
    },
    {
      "cell_type": "code",
      "source": [
        "# 기본 정렬\n",
        "## 함수\n",
        "def findMinIndex(arr) :\n",
        "  minIdx = 0\n",
        "  for i in range(1, len(arr)) :\n",
        "    if arr[minIdx] > arr[i] :\n",
        "      minIdx = i\n",
        "  return minIdx\n",
        "\n",
        "## 변수\n",
        "testArr = [100, 160, 40, 150]\n",
        "\n",
        "## 메인\n",
        "minPos = findMinIndex(testArr)\n",
        "print('Min:', testArr[minPos])"
      ],
      "metadata": {
        "colab": {
          "base_uri": "https://localhost:8080/"
        },
        "id": "AJN4v_YvAAoc",
        "outputId": "0f88658c-8e67-4a3e-dfef-1ac21eaac746"
      },
      "execution_count": null,
      "outputs": [
        {
          "output_type": "stream",
          "name": "stdout",
          "text": [
            "Min: 40\n"
          ]
        }
      ]
    },
    {
      "cell_type": "code",
      "source": [
        "# 선택 정렬\n",
        "import random\n",
        "\n",
        "## 함수\n",
        "def findMinIndex(arr) :\n",
        "  minIdx = 0\n",
        "  for i in range(1, len(arr)) :\n",
        "    if arr[minIdx] > arr[i] :\n",
        "      minIdx = i\n",
        "  return minIdx\n",
        "\n",
        "## 변수\n",
        "before = [random.randint(50, 190) for _ in range(8)]\n",
        "after = []\n",
        "\n",
        "## 메인\n",
        "print('Before sorting: ', before)\n",
        "for _ in range(len(before)) :\n",
        "  minPos = findMinIndex(before)\n",
        "  after.append(before[minPos])\n",
        "  del before[minPos]\n",
        "  \n",
        "print('After sorting: ', after)"
      ],
      "metadata": {
        "colab": {
          "base_uri": "https://localhost:8080/"
        },
        "id": "Eiw5iRXWCjCc",
        "outputId": "76999c50-eba4-4400-c644-ef2db88cbc03"
      },
      "execution_count": null,
      "outputs": [
        {
          "output_type": "stream",
          "name": "stdout",
          "text": [
            "Before sorting:  [166, 150, 72, 56, 102, 96, 123, 66]\n",
            "After sorting:  [56, 66, 72, 96, 102, 123, 150, 166]\n"
          ]
        }
      ]
    },
    {
      "cell_type": "markdown",
      "source": [
        "> 효율적이지 않은 방식"
      ],
      "metadata": {
        "id": "jELeMmB2Is7M"
      }
    },
    {
      "cell_type": "code",
      "source": [
        "# 개선된 선택 정렬\n",
        "import random\n",
        "\n",
        "## 함수\n",
        "def selectionSort(arr) :\n",
        "  n = len(arr)\n",
        "  for i in range(n-1) :\n",
        "    minIdx = i\n",
        "    for k in range(i+1, n) :\n",
        "      if arr[minIdx] > arr[k] :\n",
        "        minIdx = k\n",
        "    arr[minIdx], arr[i] = arr[i], arr[minIdx]\n",
        "  return arr\n",
        "\n",
        "## 변수\n",
        "dataArr = [random.randint(50, 190) for _ in range(12)]\n",
        "\n",
        "## 메인\n",
        "print('Before sorting: ', dataArr)\n",
        "\n",
        "dataArr = selectionSort(dataArr)\n",
        "  \n",
        "print('After sorting: ', dataArr)"
      ],
      "metadata": {
        "colab": {
          "base_uri": "https://localhost:8080/"
        },
        "id": "20s7VCeVGq0C",
        "outputId": "5a54c445-3687-410a-d955-697065e34c3d"
      },
      "execution_count": null,
      "outputs": [
        {
          "output_type": "stream",
          "name": "stdout",
          "text": [
            "Before sorting:  [85, 122, 124, 97, 187, 190, 87, 51, 179, 149, 62, 67]\n",
            "After sorting:  [51, 62, 67, 85, 87, 97, 122, 124, 149, 179, 187, 190]\n"
          ]
        }
      ]
    },
    {
      "cell_type": "markdown",
      "source": [
        "### 검색"
      ],
      "metadata": {
        "id": "k_1hZmKMSsb6"
      }
    },
    {
      "cell_type": "code",
      "source": [
        "# 순차검색\n",
        "\n",
        "## 함수\n",
        "def seqSearch(arr, fData) :\n",
        "  pos = -1\n",
        "  for i in range(0, len(arr)) :\n",
        "    if arr[i] == fData :\n",
        "      pos = i\n",
        "      break\n",
        "  return pos\n",
        "\n",
        "## 변수\n",
        "dataArr = [random.randint(50, 190) for _ in range(12)]\n",
        "findData = random.choice(dataArr)\n",
        "\n",
        "## 메인\n",
        "print('Array:', dataArr)\n",
        "position = seqSearch(dataArr, findData)\n",
        "if position == -1 :\n",
        "  print('Could not find data')\n",
        "else :\n",
        "  print(findData,'is in position', position)"
      ],
      "metadata": {
        "colab": {
          "base_uri": "https://localhost:8080/"
        },
        "id": "7L8qtt9xKt2j",
        "outputId": "bde04948-085f-4f39-abbb-794f859a4879"
      },
      "execution_count": null,
      "outputs": [
        {
          "output_type": "stream",
          "name": "stdout",
          "text": [
            "Array: [113, 145, 169, 137, 180, 110, 54, 165, 89, 142, 76, 144]\n",
            "89 is in position 8\n"
          ]
        }
      ]
    },
    {
      "cell_type": "code",
      "source": [
        "## 이진 검색 (정렬 전제)\n",
        "\n",
        "## 함수\n",
        "def selectionSort(arr) :\n",
        "  n = len(arr)\n",
        "  for i in range(n-1) :\n",
        "    minIdx = i\n",
        "    for k in range(i+1, n) :\n",
        "      if arr[minIdx] > arr[k] :\n",
        "        minIdx = k\n",
        "    arr[minIdx], arr[i] = arr[i], arr[minIdx]\n",
        "  return arr\n",
        "\n",
        "def binSearch(arr, fData) :\n",
        "  pos = -1\n",
        "  start = 0\n",
        "  end = len(arr)-1\n",
        "  while (start <= end) :\n",
        "    center = (start+end)//2\n",
        "    if arr[center] == fData :\n",
        "      pos = center\n",
        "      break\n",
        "    elif (arr[center] < fData) :\n",
        "      start = center + 1\n",
        "    else :\n",
        "      end = center - 1\n",
        "\n",
        "  return pos\n",
        "\n",
        "## 변수\n",
        "dataArr = [random.randint(50, 190) for _ in range(10)]\n",
        "findData = random.choice(dataArr)\n",
        "\n",
        "## 메인\n",
        "print('Before sorting: ', dataArr)\n",
        "dataArr = selectionSort(dataArr)\n",
        "print('After sorting: ', dataArr)\n",
        "\n",
        "position = binSearch(dataArr, findData)\n",
        "if position == -1 :\n",
        "  print('Could not find data position')\n",
        "else :\n",
        "  print(findData,'is in position', position)"
      ],
      "metadata": {
        "colab": {
          "base_uri": "https://localhost:8080/"
        },
        "id": "QiNpdN6rTDrP",
        "outputId": "afe098b2-0c82-4921-d7e7-4524fac6b70b"
      },
      "execution_count": null,
      "outputs": [
        {
          "output_type": "stream",
          "name": "stdout",
          "text": [
            "Before sorting:  [132, 172, 164, 176, 98, 66, 188, 139, 61, 164]\n",
            "After sorting:  [61, 66, 98, 132, 139, 164, 164, 172, 176, 188]\n",
            "172 is in position 7\n"
          ]
        }
      ]
    },
    {
      "cell_type": "code",
      "source": [
        "## 이진 검색 (정렬 전제)\n",
        "# 성능 확인\n",
        "\n",
        "## 함수\n",
        "def binSearch(arr, fData) :\n",
        "  global count\n",
        "  pos = -1\n",
        "  start = 0\n",
        "  end = len(arr)-1\n",
        "\n",
        "  while (start <= end) :\n",
        "    count += 1\n",
        "    center = (start+end)//2\n",
        "    if arr[center] == fData :\n",
        "      pos = center\n",
        "      break\n",
        "    elif arr[center] < fData :\n",
        "      start = center+1\n",
        "    else :\n",
        "      end = center-1\n",
        "  return pos\n",
        "\n",
        "## 변수\n",
        "count = 0\n",
        "dataArr = [random.randint(1, 1000000) for _ in range(1000000)]\n",
        "findData = random.choice(dataArr)\n",
        "\n",
        "## 메인\n",
        "dataArr.sort()\n",
        "# print(dataArr)\n",
        "position = binSearch(dataArr, findData)\n",
        "if position == -1 :\n",
        "  print('Could not find data position')\n",
        "else :\n",
        "  print(findData,'is in position', position)\n",
        "  print('count:', count)"
      ],
      "metadata": {
        "colab": {
          "base_uri": "https://localhost:8080/"
        },
        "id": "Q9VXh26lZS12",
        "outputId": "855af82b-4553-4cc5-f7f5-6123749aa79e"
      },
      "execution_count": null,
      "outputs": [
        {
          "output_type": "stream",
          "name": "stdout",
          "text": [
            "63631 is in position 63978\n",
            "count: 16\n"
          ]
        }
      ]
    },
    {
      "cell_type": "markdown",
      "source": [
        "### 재귀"
      ],
      "metadata": {
        "id": "zOGGfNeUcgEg"
      }
    },
    {
      "cell_type": "code",
      "source": [
        "# 기본\n",
        "\n",
        "## 함수\n",
        "def openBox() :\n",
        "  print('상자 열어!')\n",
        "  # openBox()\n",
        "  # 파이썬이 허용하는 최대로 재귀\n",
        "\n",
        "## 메인\n",
        "openBox()"
      ],
      "metadata": {
        "colab": {
          "base_uri": "https://localhost:8080/"
        },
        "id": "LAziWeOrbKBR",
        "outputId": "38d4eba3-b019-4cd1-99b3-79595e5649a9"
      },
      "execution_count": null,
      "outputs": [
        {
          "output_type": "stream",
          "name": "stdout",
          "text": [
            "상자 열어!\n"
          ]
        }
      ]
    },
    {
      "cell_type": "code",
      "source": [
        "# 기본\n",
        "\n",
        "## 함수\n",
        "def openBox() :\n",
        "  global count\n",
        "  print('상자 열어! 상자 번호:', count)\n",
        "  count -= 1\n",
        "  \n",
        "  if count == 0 :\n",
        "    print('선물 넣기🎁')\n",
        "    return\n",
        "  \n",
        "  openBox()\n",
        "\n",
        "  print('상자 닫아!')\n",
        "  return\n",
        "\n",
        "## 메인\n",
        "count = 10\n",
        "openBox()"
      ],
      "metadata": {
        "colab": {
          "base_uri": "https://localhost:8080/"
        },
        "id": "KwLt9LlpgMjn",
        "outputId": "20b3fb3a-8471-4034-d228-e8037c5c68a2"
      },
      "execution_count": null,
      "outputs": [
        {
          "output_type": "stream",
          "name": "stdout",
          "text": [
            "상자 열어! 상자 번호: 10\n",
            "상자 열어! 상자 번호: 9\n",
            "상자 열어! 상자 번호: 8\n",
            "상자 열어! 상자 번호: 7\n",
            "상자 열어! 상자 번호: 6\n",
            "상자 열어! 상자 번호: 5\n",
            "상자 열어! 상자 번호: 4\n",
            "상자 열어! 상자 번호: 3\n",
            "상자 열어! 상자 번호: 2\n",
            "상자 열어! 상자 번호: 1\n",
            "선물 넣기🎁\n",
            "상자 닫아!\n",
            "상자 닫아!\n",
            "상자 닫아!\n",
            "상자 닫아!\n",
            "상자 닫아!\n",
            "상자 닫아!\n",
            "상자 닫아!\n",
            "상자 닫아!\n",
            "상자 닫아!\n"
          ]
        }
      ]
    },
    {
      "cell_type": "code",
      "source": [
        "def addNumber(num) :\n",
        "  if num == 1 :\n",
        "    return 1\n",
        "  return num + addNumber(num-1)\n",
        "\n",
        "addNumber(10)"
      ],
      "metadata": {
        "colab": {
          "base_uri": "https://localhost:8080/"
        },
        "id": "Yo--EC0xjFtA",
        "outputId": "423048de-85a3-4c86-f463-7a7335f72a4c"
      },
      "execution_count": null,
      "outputs": [
        {
          "output_type": "execute_result",
          "data": {
            "text/plain": [
              "55"
            ]
          },
          "metadata": {},
          "execution_count": 7
        }
      ]
    },
    {
      "cell_type": "code",
      "source": [
        "def factorial(num) :\n",
        "  if num <= 1 :\n",
        "    return 1\n",
        "  return num * factorial(num-1)\n",
        "\n",
        "factorial(5)"
      ],
      "metadata": {
        "colab": {
          "base_uri": "https://localhost:8080/"
        },
        "id": "q5Jxg7zCg7Tf",
        "outputId": "d77d2986-1efb-4c39-d979-3a682664ecdc"
      },
      "execution_count": null,
      "outputs": [
        {
          "output_type": "execute_result",
          "data": {
            "text/plain": [
              "120"
            ]
          },
          "metadata": {},
          "execution_count": 9
        }
      ]
    },
    {
      "cell_type": "code",
      "source": [
        "factorial(0)"
      ],
      "metadata": {
        "colab": {
          "base_uri": "https://localhost:8080/"
        },
        "id": "vLED4R6Eiy3G",
        "outputId": "7477891e-608b-420e-a586-442bc18349e0"
      },
      "execution_count": null,
      "outputs": [
        {
          "output_type": "execute_result",
          "data": {
            "text/plain": [
              "1"
            ]
          },
          "metadata": {},
          "execution_count": 10
        }
      ]
    },
    {
      "cell_type": "markdown",
      "source": [
        "## 연습 문제"
      ],
      "metadata": {
        "id": "agNmM57flemY"
      }
    },
    {
      "cell_type": "code",
      "source": [
        "ARRAY_LENGTH = 5  # 배열의 행과 열 크기(고정)\n",
        "\n",
        "def replaceData(numData): # numData\t2차원 정수 배열\n",
        "    retData = [[0 for col in range(ARRAY_LENGTH)] for row in range(ARRAY_LENGTH)] # 조건에 따라서 전처리된 2차원 배열\n",
        "\n",
        "    ###########   여기부터 코딩 (1) ---------------->\n",
        "    for i in range(ARRAY_LENGTH) :\n",
        "      for k in range(ARRAY_LENGTH) :\n",
        "        if numData[i][k] < 0 :\n",
        "          retData[i][k] = 0\n",
        "        elif numData[i][k] > 100 :\n",
        "          retData[i][k] = numData[i][k] % 100\n",
        "        else :\n",
        "          retData[i][k] = numData[i][k]\n",
        "\n",
        "\n",
        "\n",
        "    ###########   <-------------- 여기까지 코딩 (1)\n",
        "\n",
        "    return retData\n",
        "\n",
        "\n",
        "# 2x2 크기의 배열의 최대합을 구한다.\n",
        "def getMaxSum(numData): # 요구 사항에 맞춰 처리된 2차원 정수 배열\n",
        "    maxSum = 0 # 최대합\n",
        "\n",
        "    ###########   여기부터 코딩 (2) ---------------->\n",
        "\n",
        "\n",
        "\n",
        "\n",
        "    ###########   <-------------- 여기까지 코딩 (2)\n",
        "\n",
        "    return maxSum\n",
        "\n",
        "## 전역 변수 선언 부분\n",
        "numData = [] # 5x5 배열\n",
        "ARRAY_LENGTH = 5 # 배열의 행과 열 크기(고정)\n",
        "\n",
        "def main() :\n",
        "        global numData\n",
        "\n",
        "        loadData() # 2차원 배열 읽어오기\n",
        "\n",
        "        ## 원본 출력\n",
        "        print(' ----- 초기 배열 -----')\n",
        "        printData()\n",
        "\n",
        "        # 1. 데이터 치환 작업\n",
        "        numData = replaceData(numData)\n",
        "        print(' ----- 치환 후 배열 -----')\n",
        "        printData()\n",
        "\n",
        "        # 2. 최대 합 구하기.(2x2 크기)\n",
        "        maxSum = getMaxSum(numData)\n",
        "        print('최대 영역의 합: %d' % maxSum)\n",
        "\n",
        "       \n",
        "## 함수 선언 부분\n",
        "def  loadData() : # 데이터 불러오기\n",
        "    global numData\n",
        "\n",
        "    ###########\n",
        "    # 제공 데이터 세트 1 \n",
        "    # 5x5 숫자 배열. \n",
        "    ###########\n",
        "    numData = \\\n",
        "    [\n",
        "        [ 5, 7, -5, 100, 73 ],\n",
        "        [ 35, 23, 4, 190, 33 ],\n",
        "        [ 49, 85, 662, 39, 81 ],\n",
        "        [ 124, -59, 86, 46, 52 ],\n",
        "        [ 27, 7, 8, 33, -56 ] \n",
        "    ]\n",
        "    \n",
        "    \n",
        "\n",
        "def printData() :\n",
        "        for i in range(0, ARRAY_LENGTH) :\n",
        "                for k in range(0, ARRAY_LENGTH) :\n",
        "                        try :\n",
        "                                print(\"%5d\" % numData[i][k], end='')\n",
        "                        except :\n",
        "                                pass\n",
        "                print()\n",
        "        print('--------------------------------------')\n",
        "\n",
        "## 메인 함수 호출 ##\n",
        "if __name__ == \"__main__\" :\n",
        "    main()"
      ],
      "metadata": {
        "colab": {
          "base_uri": "https://localhost:8080/"
        },
        "id": "NFlUS4GljpIW",
        "outputId": "06bdf532-6aff-41c9-8b12-6570432bfb49"
      },
      "execution_count": null,
      "outputs": [
        {
          "output_type": "stream",
          "name": "stdout",
          "text": [
            " ----- 초기 배열 -----\n",
            "    5    7   -5  100   73\n",
            "   35   23    4  190   33\n",
            "   49   85  662   39   81\n",
            "  124  -59   86   46   52\n",
            "   27    7    8   33  -56\n",
            "--------------------------------------\n",
            " ----- 치환 후 배열 -----\n",
            "    5    7    0  100   73\n",
            "   35   23    4   90   33\n",
            "   49   85   62   39   81\n",
            "   24    0   86   46   52\n",
            "   27    7    8   33    0\n",
            "--------------------------------------\n",
            "최대 영역의 합: 0\n"
          ]
        }
      ]
    },
    {
      "cell_type": "code",
      "source": [],
      "metadata": {
        "id": "taCLHou2lhbm"
      },
      "execution_count": null,
      "outputs": []
    }
  ]
}